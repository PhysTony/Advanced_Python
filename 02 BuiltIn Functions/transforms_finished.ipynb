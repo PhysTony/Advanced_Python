{
 "cells": [
  {
   "cell_type": "code",
   "execution_count": 5,
   "id": "e001e4c2-bd62-45b0-afe8-dd2810c703fc",
   "metadata": {},
   "outputs": [],
   "source": [
    "# Uso de funciones de transformación como sorted, filter, map\n",
    "\n",
    "# Definimos una función de filtro que devuelve True si el número es impar\n",
    "def filterFunc(x):\n",
    "    if x % 2 == 0:\n",
    "        return False\n",
    "    return True\n",
    "\n",
    "# Definimos una función de filtro que devuelve True si el carácter es minúscula\n",
    "def filterFunc2(x):\n",
    "    if x.isupper():\n",
    "        return False\n",
    "    return True\n",
    "\n",
    "# Definimos una función que devuelve el cuadrado de un número\n",
    "def squareFunc(x):\n",
    "    return x**2\n",
    "\n",
    "# Definimos una función que convierte un número en una calificación de letra\n",
    "def toGrade(x):\n",
    "    if (x >= 90):\n",
    "        return \"A\"\n",
    "    elif (x >= 80 and x < 90):\n",
    "        return \"B\"\n",
    "    elif (x >= 70 and x < 80):\n",
    "        return \"C\"\n",
    "    elif (x >= 65 and x < 70):\n",
    "        return \"D\"\n",
    "    return \"F\"\n",
    "\n",
    "def main():\n",
    "    # Definimos algunas secuencias de muestra para operar\n",
    "    nums = (1, 8, 4, 5, 13, 26, 381, 410, 58, 47)\n",
    "    chars = \"abcDeFGHiJklmnoP\"\n",
    "    grades = (81, 89, 94, 78, 61, 66, 99, 74)\n",
    "\n",
    "    # Usamos filter para eliminar elementos de una lista\n",
    "    # Filtramos los números impares de nums\n",
    "    odds = list(filter(filterFunc, nums))\n",
    "    print(odds)\n",
    "\n",
    "    # Usamos filter en una secuencia no numérica\n",
    "    # Filtramos los caracteres en minúscula de chars\n",
    "    lowers = list(filter(filterFunc2, chars))\n",
    "    print(lowers)\n",
    "\n",
    "    # Usamos map para crear una nueva secuencia de valores\n",
    "    # Creamos una nueva lista con los cuadrados de los números en nums\n",
    "    squares = list(map(squareFunc, nums))\n",
    "    print(squares)\n",
    "\n",
    "    # Usamos sorted y map para cambiar números a calificaciones\n",
    "    # Ordenamos las calificaciones y las convertimos a calificaciones de letras\n",
    "    grades = sorted(grades)\n",
    "    letters = list(map(toGrade, grades))\n",
    "    print(letters)"
   ]
  },
  {
   "cell_type": "code",
   "execution_count": 6,
   "id": "57e5d228-e0bb-4edb-9f63-5f6269556aa5",
   "metadata": {},
   "outputs": [
    {
     "name": "stdout",
     "output_type": "stream",
     "text": [
      "[1, 5, 13, 381, 47]\n",
      "['a', 'b', 'c', 'e', 'i', 'k', 'l', 'm', 'n', 'o']\n",
      "[1, 64, 16, 25, 169, 676, 145161, 168100, 3364, 2209]\n",
      "['F', 'D', 'C', 'C', 'B', 'B', 'A', 'A']\n"
     ]
    }
   ],
   "source": [
    "main()"
   ]
  }
 ],
 "metadata": {
  "kernelspec": {
   "display_name": "Python 3 (ipykernel)",
   "language": "python",
   "name": "python3"
  },
  "language_info": {
   "codemirror_mode": {
    "name": "ipython",
    "version": 3
   },
   "file_extension": ".py",
   "mimetype": "text/x-python",
   "name": "python",
   "nbconvert_exporter": "python",
   "pygments_lexer": "ipython3",
   "version": "3.9.16"
  }
 },
 "nbformat": 4,
 "nbformat_minor": 5
}
