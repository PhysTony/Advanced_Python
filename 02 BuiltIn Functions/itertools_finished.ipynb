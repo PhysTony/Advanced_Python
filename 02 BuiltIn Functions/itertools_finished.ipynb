{
 "cells": [
  {
   "cell_type": "code",
   "execution_count": 2,
   "id": "b69da8eb-416f-4700-8968-4ea512171903",
   "metadata": {},
   "outputs": [],
   "source": [
    "import itertools"
   ]
  },
  {
   "cell_type": "code",
   "execution_count": 3,
   "id": "90108111-7981-4d17-9ac8-188a1e4e0518",
   "metadata": {},
   "outputs": [],
   "source": [
    "# Definimos una función de prueba que devuelve True si el número es menor que 40\n",
    "def testFunction(x):\n",
    "    return x < 40\n",
    "\n",
    "def main():\n",
    "    # La función cycle de itertools puede ser usada para ciclar sobre una colección\n",
    "    seq1 = [\"Joe\", \"John\", \"Mike\"]\n",
    "    # Creamos un iterador que cicla sobre seq1\n",
    "    cycle1 = itertools.cycle(seq1)\n",
    "    # Imprimimos los primeros cuatro elementos del iterador\n",
    "    print(next(cycle1))  # Joe\n",
    "    print(next(cycle1))  # John\n",
    "    print(next(cycle1))  # Mike\n",
    "    print(next(cycle1))  # Joe\n",
    "\n",
    "    # Usamos count para crear un contador simple\n",
    "    # Creamos un contador que comienza en 100 y se incrementa en 10 cada vez\n",
    "    count1 = itertools.count(100, 10)\n",
    "    # Imprimimos los primeros tres elementos del contador\n",
    "    print(next(count1))  # 100\n",
    "    print(next(count1))  # 110\n",
    "    print(next(count1))  # 120\n",
    "\n",
    "    # accumulate crea un iterador que acumula valores\n",
    "    # Creamos una lista de valores\n",
    "    vals = [10,20,30,40,50,40,30]\n",
    "    # Creamos un iterador que acumula los valores máximos de vals\n",
    "    acc = itertools.accumulate(vals, max)\n",
    "    # Imprimimos la lista de valores acumulados\n",
    "    print(list(acc))\n",
    "        \n",
    "    # Usamos chain para conectar secuencias juntas\n",
    "    # Creamos un iterador que encadena \"ABCD\" y \"1234\"\n",
    "    x = itertools.chain(\"ABCD\", \"1234\")\n",
    "    # Imprimimos la lista de valores encadenados\n",
    "    print(list(x))\n",
    "    \n",
    "    # dropwhile y takewhile devolverán valores hasta que se cumpla una condición que los detenga\n",
    "    # Creamos un iterador que descarta los valores de vals hasta que la función de prueba devuelve False\n",
    "    print(list(itertools.dropwhile(testFunction, vals)))\n",
    "    # Creamos un iterador que toma los valores de vals hasta que la función de prueba devuelve False\n",
    "    print(list(itertools.takewhile(testFunction, vals)))"
   ]
  },
  {
   "cell_type": "code",
   "execution_count": 4,
   "id": "7fa279ff-ef58-49e8-a066-7a05d088ff48",
   "metadata": {},
   "outputs": [
    {
     "name": "stdout",
     "output_type": "stream",
     "text": [
      "Joe\n",
      "John\n",
      "Mike\n",
      "Joe\n",
      "100\n",
      "110\n",
      "120\n",
      "[10, 20, 30, 40, 50, 50, 50]\n",
      "['A', 'B', 'C', 'D', '1', '2', '3', '4']\n",
      "[40, 50, 40, 30]\n",
      "[10, 20, 30]\n"
     ]
    }
   ],
   "source": [
    "main()"
   ]
  }
 ],
 "metadata": {
  "kernelspec": {
   "display_name": "Python 3 (ipykernel)",
   "language": "python",
   "name": "python3"
  },
  "language_info": {
   "codemirror_mode": {
    "name": "ipython",
    "version": 3
   },
   "file_extension": ".py",
   "mimetype": "text/x-python",
   "name": "python",
   "nbconvert_exporter": "python",
   "pygments_lexer": "ipython3",
   "version": "3.9.16"
  }
 },
 "nbformat": 4,
 "nbformat_minor": 5
}
