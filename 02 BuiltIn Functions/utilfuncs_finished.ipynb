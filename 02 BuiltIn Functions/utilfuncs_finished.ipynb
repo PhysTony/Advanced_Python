{
 "cells": [
  {
   "cell_type": "code",
   "execution_count": 2,
   "id": "d5cc6516-b0c9-411a-a7bc-22e9bde45e5b",
   "metadata": {},
   "outputs": [],
   "source": [
    "# Demostración de funciones de utilidad incorporadas en Python\n",
    "\n",
    "def main():\n",
    "    # Utilizamos any() y all() para probar secuencias para valores booleanos\n",
    "    # Creamos una lista de números\n",
    "    list1 = [1, 2, 3, 0, 5, 6]\n",
    "    \n",
    "    # any() devolverá verdadero si alguno de los valores de la secuencia es verdadero\n",
    "    # En este caso, dado que la lista contiene al menos un valor no cero (verdadero), any() devolverá True\n",
    "    print(any(list1))\n",
    "    \n",
    "    # all() devolverá verdadero solo si todos los valores son verdaderos\n",
    "    # En este caso, dado que la lista contiene un valor cero (falso), all() devolverá False\n",
    "    print(all(list1))\n",
    "    \n",
    "    # min() y max() devolverán los valores mínimo y máximo en una secuencia, respectivamente\n",
    "    print(\"min: \", min(list1))  # Imprime el valor mínimo en la lista\n",
    "    print(\"max: \", max(list1))  # Imprime el valor máximo en la lista\n",
    "    \n",
    "    # Usamos sum() para sumar todos los valores en una secuencia\n",
    "    print(\"sum: \", sum(list1))  # Imprime la suma de todos los valores en la lista"
   ]
  },
  {
   "cell_type": "code",
   "execution_count": 4,
   "id": "afc96965-0079-4532-a53f-fa82aa4580d8",
   "metadata": {},
   "outputs": [
    {
     "name": "stdout",
     "output_type": "stream",
     "text": [
      "True\n",
      "False\n",
      "min:  0\n",
      "max:  6\n",
      "sum:  17\n"
     ]
    }
   ],
   "source": [
    "main()"
   ]
  }
 ],
 "metadata": {
  "kernelspec": {
   "display_name": "Python 3 (ipykernel)",
   "language": "python",
   "name": "python3"
  },
  "language_info": {
   "codemirror_mode": {
    "name": "ipython",
    "version": 3
   },
   "file_extension": ".py",
   "mimetype": "text/x-python",
   "name": "python",
   "nbconvert_exporter": "python",
   "pygments_lexer": "ipython3",
   "version": "3.9.16"
  }
 },
 "nbformat": 4,
 "nbformat_minor": 5
}
