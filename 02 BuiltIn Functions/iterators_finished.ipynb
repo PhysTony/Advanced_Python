{
 "cells": [
  {
   "cell_type": "code",
   "execution_count": 1,
   "id": "efde181c-65e7-427f-9577-0bd57bf7a6aa",
   "metadata": {},
   "outputs": [],
   "source": [
    "# Uso de funciones de iterador como enumerate, zip, iter, next\n",
    "\n",
    "def main():\n",
    "    # Definimos una lista de días en inglés y francés\n",
    "    days = [\"Sun\", \"Mon\", \"Tue\", \"Wed\", \"Thu\", \"Fri\", \"Sat\"]\n",
    "    daysFr = [\"Dim\", \"Lun\", \"Mar\", \"Mer\", \"Jeu\", \"Ven\", \"Sam\"]\n",
    "\n",
    "    # Usamos iter para crear un iterador sobre una colección\n",
    "    i = iter(days)\n",
    "    # Usamos next para obtener el siguiente elemento en el iterador\n",
    "    print(next(i))  # Sun\n",
    "    print(next(i))  # Mon\n",
    "    print(next(i))  # Tue\n",
    "\n",
    "    # Iteramos usando una función y un centinela\n",
    "    # Abrimos un archivo y usamos iter para iterar sobre cada línea en el archivo\n",
    "    with open(\"testfile.txt\", \"r\") as fp:\n",
    "        for line in iter(fp.readline, ''):\n",
    "            print(line)\n",
    "\n",
    "    # Usamos iteración regular sobre los días\n",
    "    # Imprimimos el número del día y el nombre del día en inglés\n",
    "    for m in range(len(days)):\n",
    "        print(m+1, days[m])\n",
    "\n",
    "    # Usamos enumerate para reducir el código y proporcionar un contador\n",
    "    # Imprimimos el número del día y el nombre del día en inglés\n",
    "    for i, m in enumerate(days, start=1):\n",
    "        print(i, m)\n",
    "\n",
    "    # Usamos zip para combinar secuencias\n",
    "    # Imprimimos los nombres de los días en inglés y francés juntos\n",
    "    for m in zip(days, daysFr):\n",
    "        print(m)\n",
    "\n",
    "    # Usamos enumerate y zip juntos\n",
    "    # Imprimimos el número del día, el nombre del día en inglés y francés\n",
    "    for i, m in enumerate(zip(days, daysFr), start=1):\n",
    "        print(i, m[0], \"=\", m[1], \"in French\")"
   ]
  },
  {
   "cell_type": "code",
   "execution_count": 2,
   "id": "4f24f0c8-3b93-4ad0-820a-5aa308dad6b7",
   "metadata": {},
   "outputs": [
    {
     "name": "stdout",
     "output_type": "stream",
     "text": [
      "Sun\n",
      "Mon\n",
      "Tue\n",
      "This is line 1\n",
      "\n",
      "This is line 2\n",
      "\n",
      "This is line 3\n",
      "\n",
      "This is line 4\n",
      "\n",
      "This is line 5\n",
      "\n",
      "This is line 6\n",
      "\n",
      "1 Sun\n",
      "2 Mon\n",
      "3 Tue\n",
      "4 Wed\n",
      "5 Thu\n",
      "6 Fri\n",
      "7 Sat\n",
      "1 Sun\n",
      "2 Mon\n",
      "3 Tue\n",
      "4 Wed\n",
      "5 Thu\n",
      "6 Fri\n",
      "7 Sat\n",
      "('Sun', 'Dim')\n",
      "('Mon', 'Lun')\n",
      "('Tue', 'Mar')\n",
      "('Wed', 'Mer')\n",
      "('Thu', 'Jeu')\n",
      "('Fri', 'Ven')\n",
      "('Sat', 'Sam')\n",
      "1 Sun = Dim in French\n",
      "2 Mon = Lun in French\n",
      "3 Tue = Mar in French\n",
      "4 Wed = Mer in French\n",
      "5 Thu = Jeu in French\n",
      "6 Fri = Ven in French\n",
      "7 Sat = Sam in French\n"
     ]
    }
   ],
   "source": [
    "main()"
   ]
  }
 ],
 "metadata": {
  "kernelspec": {
   "display_name": "Python 3 (ipykernel)",
   "language": "python",
   "name": "python3"
  },
  "language_info": {
   "codemirror_mode": {
    "name": "ipython",
    "version": 3
   },
   "file_extension": ".py",
   "mimetype": "text/x-python",
   "name": "python",
   "nbconvert_exporter": "python",
   "pygments_lexer": "ipython3",
   "version": "3.9.16"
  }
 },
 "nbformat": 4,
 "nbformat_minor": 5
}
