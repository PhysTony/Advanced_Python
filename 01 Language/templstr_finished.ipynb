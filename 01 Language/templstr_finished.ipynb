{
 "cells": [
  {
   "cell_type": "code",
   "execution_count": 1,
   "id": "755bde54-71db-40a0-8132-696f0af52d2d",
   "metadata": {},
   "outputs": [],
   "source": [
    "# Importamos la clase Template del módulo string\n",
    "from string import Template"
   ]
  },
  {
   "cell_type": "code",
   "execution_count": 2,
   "id": "9154bac8-1884-4c38-bffe-eba1b3808eb5",
   "metadata": {},
   "outputs": [],
   "source": [
    "# Definimos la función principal\n",
    "def main():\n",
    "    # Usamos el método format() para formatear una cadena de texto\n",
    "    # Este método reemplaza los marcadores de posición {0} y {1} con \"Advanced Python\" y \"Joe Marini\", respectivamente\n",
    "    str1 = \"You're watching {0} by {1}\".format(\"Advanced Python\", \"Joe Marini\")\n",
    "    # Imprimimos la cadena de texto resultante\n",
    "    print(str1)\n",
    "    \n",
    "    # Creamos una plantilla de cadena de texto utilizando la clase Template\n",
    "    # Esta plantilla contiene marcadores de posición ${title} y ${author} que pueden ser reemplazados con valores reales\n",
    "    templ = Template(\"You're watching ${title} by ${author}\")\n",
    "    \n",
    "    # Usamos el método substitute() de la clase Template para reemplazar los marcadores de posición en la plantilla\n",
    "    # Reemplazamos ${title} con \"Advanced Python\" y ${author} con \"Joe Marini\"\n",
    "    str2 = templ.substitute(title=\"Advanced Python\", author=\"Joe Marini\")\n",
    "    # Imprimimos la cadena de texto resultante\n",
    "    print(str2)\n",
    "    \n",
    "    # Creamos un diccionario con las claves \"author\" y \"title\" y sus correspondientes valores\n",
    "    data = { \n",
    "        \"author\": \"Joe Marini\",\n",
    "        \"title\": \"Advanced Python\"\n",
    "    }\n",
    "    # Usamos nuevamente el método substitute() para reemplazar los marcadores de posición en la plantilla con los valores del diccionario\n",
    "    str3 = templ.substitute(data)    \n",
    "    # Imprimimos la cadena de texto resultante\n",
    "    print(str3)\n",
    "    \n",
    "# Si este archivo se ejecuta como un script (en lugar de ser importado como un módulo), llamamos a la función main() para ejecutar el código anterior\n",
    "#if __name__ == \"__main__\":\n",
    "#    main()"
   ]
  },
  {
   "cell_type": "code",
   "execution_count": 3,
   "id": "a7bdf272-9bc5-4e62-97a0-b6d49206a2dd",
   "metadata": {},
   "outputs": [
    {
     "name": "stdout",
     "output_type": "stream",
     "text": [
      "You're watching Advanced Python by Joe Marini\n",
      "You're watching Advanced Python by Joe Marini\n",
      "You're watching Advanced Python by Joe Marini\n"
     ]
    }
   ],
   "source": [
    "main()"
   ]
  }
 ],
 "metadata": {
  "kernelspec": {
   "display_name": "Python 3 (ipykernel)",
   "language": "python",
   "name": "python3"
  },
  "language_info": {
   "codemirror_mode": {
    "name": "ipython",
    "version": 3
   },
   "file_extension": ".py",
   "mimetype": "text/x-python",
   "name": "python",
   "nbconvert_exporter": "python",
   "pygments_lexer": "ipython3",
   "version": "3.9.16"
  }
 },
 "nbformat": 4,
 "nbformat_minor": 5
}
