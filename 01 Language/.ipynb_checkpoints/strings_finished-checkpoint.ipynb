{
 "cells": [
  {
   "cell_type": "code",
   "execution_count": 1,
   "id": "5742604c-5021-4cf9-a91e-f459ac1bbfe0",
   "metadata": {},
   "outputs": [],
   "source": [
    "# Las cadenas de texto y los bytes no son directamente intercambiables\n",
    "# Las cadenas de texto contienen unicode, los bytes son valores brutos de 8 bits\n",
    "\n",
    "def main():\n",
    "    # Definimos algunos valores iniciales\n",
    "    # Creamos un objeto bytes a partir de una lista de valores enteros\n",
    "    b = bytes([0x41, 0x42, 0x43, 0x44])\n",
    "    # Imprimimos el objeto bytes\n",
    "    print(b)\n",
    "    \n",
    "    # Creamos una cadena de texto\n",
    "    s = \"This is a string\"\n",
    "    # Imprimimos la cadena de texto\n",
    "    print(s)\n",
    "    \n",
    "    # Intentamos combinarlos. Esto causará un error:\n",
    "    # print(s+b)\n",
    "    \n",
    "    # Los bytes y las cadenas de texto necesitan ser correctamente codificados y decodificados\n",
    "    # antes de que puedas trabajar con ellos juntos\n",
    "    # Decodificamos el objeto bytes a una cadena de texto usando utf-8\n",
    "    s2 = b.decode('utf-8')\n",
    "    # Imprimimos la concatenación de las dos cadenas de texto\n",
    "    print(s+s2)\n",
    "    \n",
    "    # Codificamos la cadena de texto a un objeto bytes usando utf-8\n",
    "    b2 = s.encode('utf-8')\n",
    "    # Imprimimos la concatenación de los dos objetos bytes\n",
    "    print(b+b2)\n",
    "    \n",
    "    # Codificamos la cadena de texto a un objeto bytes usando utf-32\n",
    "    b3 = s.encode('utf-32')\n",
    "    # Imprimimos el objeto bytes resultante\n",
    "    print(b3)\n",
    "    \n",
    "# Si este archivo se ejecuta como un script (en lugar de ser importado como un módulo), llamamos a la función main() para ejecutar el código anterior\n",
    "#if __name__ == \"__main__\":\n",
    "#    main()"
   ]
  },
  {
   "cell_type": "code",
   "execution_count": null,
   "id": "876616ff-aec1-4e4a-82c0-4d12f8ed7885",
   "metadata": {},
   "outputs": [],
   "source": []
  }
 ],
 "metadata": {
  "kernelspec": {
   "display_name": "Python 3 (ipykernel)",
   "language": "python",
   "name": "python3"
  },
  "language_info": {
   "codemirror_mode": {
    "name": "ipython",
    "version": 3
   },
   "file_extension": ".py",
   "mimetype": "text/x-python",
   "name": "python",
   "nbconvert_exporter": "python",
   "pygments_lexer": "ipython3",
   "version": "3.9.16"
  }
 },
 "nbformat": 4,
 "nbformat_minor": 5
}
