{
 "cells": [
  {
   "cell_type": "code",
   "execution_count": 1,
   "id": "b185633f-e8cb-44dc-bdc2-53c0990657dd",
   "metadata": {},
   "outputs": [],
   "source": [
    "# Las importaciones se colocan en sus propias líneas\n",
    "# Importamos el módulo sys\n",
    "import sys\n",
    "# Importamos el módulo os\n",
    "import os"
   ]
  },
  {
   "cell_type": "code",
   "execution_count": 2,
   "id": "18b43113-56cb-4542-a81c-f4ca639b7e55",
   "metadata": {},
   "outputs": [],
   "source": [
    "# Dos líneas en blanco separan las clases de otras funciones\n",
    "# Definimos una clase llamada MyClass\n",
    "class MyClass():\n",
    "    # El método __init__ se ejecuta al instanciar la clase\n",
    "    def __init__(self):\n",
    "        # Definimos una propiedad llamada prop1 y la inicializamos con \"my class\"\n",
    "        self.prop1 = \"my class\"\n",
    "\n",
    "    # Dentro de las clases, una línea en blanco separa los métodos\n",
    "    # Definimos un método llamado method1 que toma un argumento arg1\n",
    "    def method1(self, arg1):\n",
    "        # El método no hace nada (pass se usa como un marcador de posición)\n",
    "        pass\n",
    "\n",
    "\n",
    "# Definimos una función principal\n",
    "def main():\n",
    "    # Los comentarios largos, como este que fluye a través de varias líneas, están\n",
    "    # limitados a 72 caracteres en lugar de 79 para las líneas de código.\n",
    "    # Creamos una instancia de MyClass y la asignamos a cls1\n",
    "    cls1 = MyClass()\n",
    "    # Cambiamos el valor de la propiedad prop1 de cls1 a \"hello world\"\n",
    "    cls1.prop1 = \"hello world\"\n",
    "\n",
    "\n",
    "# Si este archivo se ejecuta como un script (en lugar de ser importado como un módulo), llamamos a la función main() para ejecutar el código anterior\n",
    "#if __name__ == \"__main__\":\n",
    "#    main()"
   ]
  },
  {
   "cell_type": "code",
   "execution_count": 3,
   "id": "f81c2199-c7e5-4bf0-96ea-7232a37a3e19",
   "metadata": {},
   "outputs": [],
   "source": [
    "main()"
   ]
  }
 ],
 "metadata": {
  "kernelspec": {
   "display_name": "Python 3 (ipykernel)",
   "language": "python",
   "name": "python3"
  },
  "language_info": {
   "codemirror_mode": {
    "name": "ipython",
    "version": 3
   },
   "file_extension": ".py",
   "mimetype": "text/x-python",
   "name": "python",
   "nbconvert_exporter": "python",
   "pygments_lexer": "ipython3",
   "version": "3.9.16"
  }
 },
 "nbformat": 4,
 "nbformat_minor": 5
}
